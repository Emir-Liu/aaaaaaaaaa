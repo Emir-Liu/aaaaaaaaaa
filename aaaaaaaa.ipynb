{
 "cells": [
  {
   "cell_type": "code",
   "execution_count": 1,
   "metadata": {},
   "outputs": [],
   "source": [
    "import cv2\n",
    "import numpy as np\n",
    "import matplotlib.pyplot as plt"
   ]
  },
  {
   "cell_type": "code",
   "execution_count": 2,
   "metadata": {},
   "outputs": [],
   "source": [
    "def cv2show(name,img):\n",
    "    cv2.imshow(name,img)\n",
    "    cv2.waitKey(0)\n",
    "    \n",
    "    "
   ]
  },
  {
   "cell_type": "code",
   "execution_count": 3,
   "metadata": {},
   "outputs": [],
   "source": [
    "# 对图片进行垂直分割，传入的是二值图\n",
    "def verticalCut(img,org_img):\n",
    "    (x,y)=img.shape #返回的分别是矩阵的行数和列数，x是行数，y是列数\n",
    "    print((x,y))\n",
    "    pointCount=np.zeros(y,dtype=np.uint8)#每列黑色的个数\n",
    "    x_axes=np.arange(0,y)\n",
    "    #i是列数，j是行数\n",
    "    tempimg=img.copy()\n",
    "    for i in range(0,y):\n",
    "        for j in range(0,x):\n",
    "            if(tempimg[j,i] == 0):\n",
    "                pointCount[i]=pointCount[i]+1\n",
    "    plt.plot(x_axes,pointCount)\n",
    "    start = []\n",
    "    end = []\n",
    "    # 对照片进行分割\n",
    "    print(pointCount)\n",
    "    for index in range(1, y-1):\n",
    "        if ((pointCount[index-1] == x) & (pointCount[index] < x)):\n",
    "            start.append(index)\n",
    "        elif ((pointCount[index] < x) & (pointCount[index +1] == x)):\n",
    "            end.append(index)\n",
    "    print('start:',start)\n",
    "    print('end:',end)\n",
    "    imgArr=[]\n",
    "    \n",
    "    # 对原始图像进行模糊与切分\n",
    "    img_blur = cv2.GaussianBlur(org_img,(3,3),0,0,cv2.BORDER_DEFAULT)\n",
    "    img_gray = cv2.cvtColor(img_blur,cv2.COLOR_BGR2GRAY)\n",
    "    ret, img_thresh = cv2.threshold(img_gray, 0, 255, + cv2.THRESH_OTSU)\n",
    "    \n",
    "    for idx in range(0,len(start)):\n",
    "        tmp = img_thresh[:,start[idx]:end[idx]]\n",
    "        tmp.astype(int)\n",
    "        cv2show('a',tmp)\n",
    "        imgArr.append(tmp)\n",
    "\n",
    "    return imgArr"
   ]
  },
  {
   "cell_type": "code",
   "execution_count": 4,
   "metadata": {},
   "outputs": [],
   "source": [
    "# 将方形图片按比例放大到对应的大小\n",
    "def reshape(img,tar_size):\n",
    "    match = cv2.imread(img)\n",
    "    match = cv2.cvtColor(match,cv2.COLOR_BGR2GRAY)\n",
    "    cv2show('a',match)\n",
    "    print(match.shape)\n",
    "    shape = match.shape\n",
    "    cha = max(shape[0],shape[1]) / tar_size\n",
    "    print('cha',cha)\n",
    "    match_res = cv2.resize(match,(int(shape[1]/cha),int(shape[0]/cha)),interpolation=cv2.INTER_CUBIC)\n",
    "    print(match_res.shape)\n",
    "    return match_res"
   ]
  },
  {
   "cell_type": "code",
   "execution_count": 5,
   "metadata": {},
   "outputs": [],
   "source": [
    "img_path = './aaaa.png'\n",
    "img = cv2.imread(img_path)\n",
    "img_blur = cv2.GaussianBlur(img,(7,7),0,0,cv2.BORDER_DEFAULT)\n",
    "img_gray = cv2.cvtColor(img_blur,cv2.COLOR_BGR2GRAY)\n",
    "ret, img_thresh = cv2.threshold(img_gray, 0, 255, + cv2.THRESH_OTSU)\n",
    "img_medi = cv2.medianBlur(img_thresh, 3)"
   ]
  },
  {
   "cell_type": "code",
   "execution_count": 6,
   "metadata": {},
   "outputs": [],
   "source": [
    "cv2show('org',img)\n",
    "cv2show('blur',img_blur)\n",
    "cv2show('gray',img_gray)\n",
    "cv2show('thresh',img_thresh)\n",
    "cv2show('medi',img_medi)"
   ]
  },
  {
   "cell_type": "code",
   "execution_count": 7,
   "metadata": {
    "scrolled": true
   },
   "outputs": [
    {
     "name": "stdout",
     "output_type": "stream",
     "text": [
      "(34, 134)\n",
      "[34 34 34 31 11 10 12 15 16 14 12 13 15 14 10  8 10 17 34 34 15 11  9  7\n",
      "  5 12 14 14 14 14 12  4  4  8 10 17 34 34 34 34 34 34 34 34 34 27 13 10\n",
      "  8  6  6 18 20 18 16 13  8  9 10 13 18 30 34 34 24 20 16 13 10 12 13 13\n",
      " 14 14 11 14 21 23 26 34 34 34 34 30 28 28 28 27 17 12  7  6 12 17 21 24\n",
      " 27 34 34 34 30 17 13 10 11 13 16 18 18 17 15 13 15 19 26 34 34 34 34 34\n",
      " 34 34 34 22 10  9  9 16 34 34 34 34 34 34]\n",
      "start: [3, 20, 45, 64, 83, 100, 123]\n",
      "end: [17, 35, 61, 78, 96, 114, 127]\n"
     ]
    },
    {
     "data": {
      "image/png": "[encoded data removed]",
      "text/plain": [
       "<Figure size 432x288 with 1 Axes>"
      ]
     },
     "metadata": {
      "needs_background": "light"
     },
     "output_type": "display_data"
    }
   ],
   "source": [
    "word_piece = verticalCut(img_medi,img)"
   ]
  },
  {
   "cell_type": "code",
   "execution_count": null,
   "metadata": {
    "scrolled": true
   },
   "outputs": [
    {
     "name": "stdout",
     "output_type": "stream",
     "text": [
      "(34, 14)\n",
      "(34, 15)\n",
      "(34, 16)\n",
      "(34, 14)\n",
      "(34, 13)\n",
      "(34, 14)\n",
      "(34, 4)\n",
      "(20, 20)\n",
      "cha 0.5882352941176471\n",
      "(34, 34)\n",
      "(20, 20)\n",
      "cha 0.5882352941176471\n",
      "(34, 34)\n",
      "max_val\n",
      "0.28423237800598145\n",
      "max_val\n",
      "-0.031107734888792038\n"
     ]
    }
   ],
   "source": [
    "idx = 0\n",
    "\n",
    "windows = []\n",
    "\n",
    "while  (idx < len(word_piece)):\n",
    "    print(word_piece[idx].shape)\n",
    "    shape = word_piece[idx].shape\n",
    "    windows_size = max(shape[0],shape[1]) + 5\n",
    "    window = np.zeros((windows_size,windows_size),dtype = np.uint8)\n",
    "    \n",
    "    x = windows_size//2 - shape[0]//2\n",
    "    y = windows_size//2 - shape[1]//2\n",
    "\n",
    "    window[x:x+shape[0],y:y+shape[1]] = word_piece[idx]\n",
    "    windows.append(window)\n",
    "    \n",
    "    idx = idx + 1\n",
    "\n",
    "for idx in range (0,len(windows)):\n",
    "    cv2show('aaaaa',windows[idx])\n",
    "    #result = cv2.matchTemplate(window)\n",
    "\n",
    "\n",
    "cmp = reshape('./refer/川.jpg',windows[0].shape[0]-5)\n",
    "cmp1 = reshape('./refer/0.jpg',windows[0].shape[0]-5)\n",
    "\n",
    "cv2show('cmp',cmp)\n",
    "cv2show('cmp1',cmp1)\n",
    "\n",
    "result=cv2.matchTemplate(windows[0],cmp1,cv2.TM_CCOEFF_NORMED)\n",
    "min_val, max_val, min_loc, max_loc = cv2.minMaxLoc(result)\n",
    "print('max_val')\n",
    "print(max_val)\n",
    "\n",
    "tw,th=cmp.shape[:2]\n",
    "tl=(max_loc[0]+th+2,max_loc[1]+tw+2)\n",
    "cv2.rectangle(windows[0],max_loc,tl,[255,0,0])\n",
    "cv2show('aaaaaaa',windows[0])\n",
    "\n",
    "result=cv2.matchTemplate(windows[0],cmp,cv2.TM_CCOEFF_NORMED)\n",
    "min_val, max_val, min_loc, max_loc = cv2.minMaxLoc(result)\n",
    "print('max_val')\n",
    "print(max_val)\n",
    "\n",
    "tw,th=cmp.shape[:2]\n",
    "tl=(max_loc[0]+th+2,max_loc[1]+tw+2)\n",
    "cv2.rectangle(windows[0],max_loc,tl,[255,0,0])\n",
    "cv2show('aaaaaaa1',windows[0])\n",
    "\n",
    "'''\n",
    "tw,th=cmp.shape[:2]\n",
    "tl=(max_loc[0]+th+2,max_loc[1]+tw+2)\n",
    "cv2.rectangle(windows[0],max_loc,tl,[0,0,0])\n",
    "cv2show('aaaaaaa',windows[0])\n",
    "'''\n",
    "\n",
    "\n",
    "    "
   ]
  },
  {
   "cell_type": "code",
   "execution_count": null,
   "metadata": {},
   "outputs": [],
   "source": [
    "import numpy as np\n",
    "import cv2\n",
    "\n",
    "compare_size = 30\n",
    "windows_size = 25\n",
    "\n",
    "#输入的分别是原图模板和标签\n",
    "def matchTemplate(src,matchSrc,label):\n",
    "    binaryc=imgThreshold(src)\n",
    "    #返回的是一个矩阵，里面的值为每一个匹配的结果\n",
    "    result=cv2.matchTemplate(binaryc,matchSrc,cv2.TM_CCOEFF_NORMED)\n",
    "    #返回最小值、最大值、最小值的位置、最大值的位置\n",
    "    min_val, max_val, min_loc, max_loc = cv2.minMaxLoc(result)\n",
    " \n",
    "    tw,th=matchSrc.shape[:2]\n",
    "    tl=(max_loc[0]+th+2,max_loc[1]+tw+2)\n",
    "    cv2.rectangle(src,max_loc,tl,[0,0,0])\n",
    "    cv2.putText(src,label,max_loc,fontFace=cv2.FONT_HERSHEY_COMPLEX,fontScale=0.6,color=(240,230,0))\n",
    "    cv2.imshow('001',src)\n",
    "    \n",
    "match = cv2.imread('./refer/0.jpg')\n",
    "cv2.imshow('a',match)\n",
    "print(match.shape)\n",
    "shape = match.shape\n",
    "cha = max(shape[0],shape[1]) / compare_size\n",
    "print('cha',cha)\n",
    "match_res = cv2.resize(match,(int(shape[1]/cha),int(shape[0]/cha)),interpolation=cv2.INTER_CUBIC)\n",
    "print(match_res.shape)\n",
    "\n",
    "cv2.waitKey(0)\n",
    "\n"
   ]
  },
  {
   "cell_type": "code",
   "execution_count": 1,
   "metadata": {},
   "outputs": [
    {
     "name": "stdout",
     "output_type": "stream",
     "text": [
      "./refer/0\n",
      "./refer/1\n",
      "./refer/2\n",
      "./refer/3\n",
      "./refer/4\n",
      "./refer/5\n",
      "./refer/6\n",
      "./refer/7\n",
      "./refer/8\n",
      "./refer/9\n",
      "./refer/A\n",
      "./refer/B\n",
      "./refer/C\n",
      "./refer/D\n",
      "./refer/E\n",
      "./refer/F\n",
      "./refer/G\n",
      "./refer/H\n",
      "./refer/J\n",
      "./refer/K\n",
      "./refer/L\n",
      "./refer/M\n",
      "./refer/N\n",
      "./refer/P\n",
      "./refer/Q\n",
      "./refer/R\n",
      "./refer/S\n",
      "./refer/T\n",
      "./refer/U\n",
      "./refer/V\n",
      "./refer/W\n",
      "./refer/X\n",
      "./refer/Y\n",
      "./refer/Z\n"
     ]
    }
   ],
   "source": [
    "template = ['0', '1', '2', '3', '4', '5', '6', '7', '8', '9',\n",
    "            'A', 'B', 'C', 'D', 'E', 'F', 'G', 'H', 'J', 'K', 'L', 'M', 'N', 'P', 'Q', 'R', 'S', 'T','U', 'V', 'W', 'X', 'Y', 'Z',\n",
    "            '藏', '川', '鄂', '甘', '赣', '贵', '桂', '黑', '沪', '吉', '冀', '津', '晋', '京', '辽', '鲁', '蒙', '闽','宁','青', '琼', '陕', '苏', '皖', '湘', '新', '渝', '豫', '粤', '云', '浙']\n",
    "\n",
    "for i in range(0,34):\n",
    "    word = './refer/'+template[i]+'.jpg'\n",
    "    print(word)"
   ]
  },
  {
   "cell_type": "code",
   "execution_count": null,
   "metadata": {},
   "outputs": [],
   "source": []
  }
 ],
 "metadata": {
  "kernelspec": {
   "display_name": "Python 3",
   "language": "python",
   "name": "python3"
  },
  "language_info": {
   "codemirror_mode": {
    "name": "ipython",
    "version": 3
   },
   "file_extension": ".py",
   "mimetype": "text/x-python",
   "name": "python",
   "nbconvert_exporter": "python",
   "pygments_lexer": "ipython3",
   "version": "3.6.9"
  }
 },
 "nbformat": 4,
 "nbformat_minor": 4
}
